{
  "nbformat": 4,
  "nbformat_minor": 0,
  "metadata": {
    "accelerator": "GPU",
    "colab": {
      "name": "ETRI  API을 활용한 형태소 분석 ",
      "provenance": [],
      "collapsed_sections": [],
      "authorship_tag": "ABX9TyMRGJgPRFw0rTI6laT0GtgR"
    },
    "kernelspec": {
      "display_name": "Python 3",
      "name": "python3"
    },
    "language_info": {
      "name": "python"
    }
  },
  "cells": [
    {
      "cell_type": "code",
      "metadata": {
        "id": "YCun-uXIz2wL"
      },
      "source": [
        "import pandas as pd \n",
        "import numpy as np \n",
        "import matplotlib.pyplot as plt \n",
        "import seaborn as sns \n",
        "import warnings\n",
        "warnings.filterwarnings('ignore')\n",
        "%matplotlib inline \n",
        "import re "
      ],
      "execution_count": null,
      "outputs": []
    },
    {
      "cell_type": "code",
      "metadata": {
        "id": "jUM8B_yvz-pe"
      },
      "source": [
        "df = pd.read_csv('/content/dataset1.csv') # 데이터 불러오기 "
      ],
      "execution_count": null,
      "outputs": []
    },
    {
      "cell_type": "code",
      "metadata": {
        "id": "9Jx56IsD0Cg7"
      },
      "source": [
        "df"
      ],
      "execution_count": null,
      "outputs": []
    },
    {
      "cell_type": "code",
      "metadata": {
        "id": "PG4TwjFZVCE-"
      },
      "source": [
        "# 분석할 데이터 셋 정해주기  # 될까? 38000개인데 ㅋㅋ \n",
        "lst = []\n",
        "for i in range(5000,len(df)):\n",
        "  a= df['body'][i]\n",
        "  lst.append(a)\n",
        "  # print(lst)\n"
      ],
      "execution_count": null,
      "outputs": []
    },
    {
      "cell_type": "code",
      "metadata": {
        "id": "uagwt5E8VQVJ"
      },
      "source": [
        "df['body'][1]"
      ],
      "execution_count": null,
      "outputs": []
    },
    {
      "cell_type": "code",
      "metadata": {
        "colab": {
          "background_save": true
        },
        "id": "kEs_fS7M0Io4"
      },
      "source": [
        "#API 활용하기 \n",
        "#현재 5045번 까지 수집 \n",
        "\n",
        "all_lst = []  # 전처리된 데이터 넣은 리스트 생성 \n",
        "#-*- coding:utf-8 -*-\n",
        "import urllib3\n",
        "import json\n",
        " \n",
        "# // 언어 분석 기술 문어/구어 중 한가지만 선택해 사용\n",
        "# // 언어 분석 기술(문어)\n",
        "# openApiURL = \"http://aiopen.etri.re.kr:8000/WiseNLU\" \n",
        "# // 언어 분석 기술(구어)\n",
        "openApiURL = \"http://aiopen.etri.re.kr:8000/WiseNLU_spoken\"\n",
        " \n",
        "accessKey = 'your_key_input'\n",
        "analysisCode = \"morp\"\n",
        "for i in lst:\n",
        "  text=i\n",
        "  \n",
        "  # // 언어 분석 기술(문어)\n",
        "  # text += \"윤동주(尹東柱, 1917년 12월 30일 ~ 1945년 2월 16일)는 한국의 독립운동가, 시인, 작가이다.\" +\n",
        "  #         \"중국 만저우 지방 지린 성 연변 용정에서 출생하여 명동학교에서 수학하였고, 숭실중학교와 연희전문학교를 졸업하였다. 숭실중학교 때 처음 시를 발표하였고, 1939년 연희전문 2학년 재학 중 소년(少年) 지에 시를 발표하며 정식으로 문단에 데뷔했다.\" +\n",
        "  #         \"일본 유학 후 도시샤 대학 재학 중 , 1943년 항일운동을 했다는 혐의로 일본 경찰에 체포되어 후쿠오카 형무소(福岡刑務所)에 투옥, 100여 편의 시를 남기고 27세의 나이에 옥중에서 요절하였다. 사인이 일본의 생체실험이라는 견해가 있고 그의 사후 일본군에 의한 마루타, 생체실험설이 제기되었으나 불확실하다. 사후에 그의 시집 《하늘과 바람과 별과 시》가 출간되었다.\" +\n",
        "  #         \"일제 강점기 후반의 양심적 지식인으로 인정받았으며, 그의 시는 일제와 조선총독부에 대한 비판과 자아성찰 등을 소재로 하였다. 그의 친구이자 사촌인 송몽규 역시 독립운동에 가담하려다가 체포되어 일제의 생체 실험으로 의문의 죽음을 맞는다. 1990년대 후반 이후 그의 창씨개명 '히라누마'가 알려져 논란이 일기도 했다. 본명 외에 윤동주(尹童柱), 윤주(尹柱)라는 필명도 사용하였다.\";\n",
        "  # // 언어 분석 기술(구어)\n",
        "  # text += \"네 안녕하세요 홍길동 교숩니다\";\n",
        "  \n",
        "  requestJson = {\n",
        "      \"access_key\": 'your_key_input',\n",
        "      \"argument\": {\n",
        "          \"text\": i,\n",
        "          \"analysis_code\": 'morp'\n",
        "      }\n",
        "  }\n",
        "  \n",
        "  http = urllib3.PoolManager()\n",
        "  response = http.request(\n",
        "      \"POST\",\n",
        "      openApiURL,\n",
        "      headers={\"Content-Type\": \"application/json; charset=UTF-8\"},\n",
        "      body=json.dumps(requestJson)\n",
        "  )\n",
        " \n",
        "  # print(\"[responseCode] \" + str(response.status))\n",
        "  # print(\"[responBody]\")\n",
        "  print(i)\n",
        "  print(str(response.data,\"utf-8\"))\n",
        "  data_json = json.loads(str(response.data,'utf-8'))\n",
        "  new_df = pd.DataFrame(data_json['return_object']['sentence']) \n",
        "  lst_1 = []\n",
        "  for j in range(len(new_df)):\n",
        "    for i in range(len(new_df['word'][j])):\n",
        "        # print(new_df['word'][j][i]['text'])\n",
        "        a = new_df['word'][j][i]['text']\n",
        "        lst_1.append(a)\n",
        "        all_lst.append(lst_1)\n",
        "                                        "
      ],
      "execution_count": null,
      "outputs": []
    },
    {
      "cell_type": "code",
      "metadata": {
        "colab": {
          "background_save": true
        },
        "id": "ckC3WvjH0a7B"
      },
      "source": [
        "##중복 제거 \n",
        "\n",
        "new_list_2 = []\n",
        "for v in all_lst:\n",
        "    if v not in new_list_2:\n",
        "        new_list_2.append(v)\n",
        "print(new_list_2)"
      ],
      "execution_count": null,
      "outputs": []
    },
    {
      "cell_type": "code",
      "metadata": {
        "colab": {
          "background_save": true
        },
        "id": "Z_JsZzDm0fil"
      },
      "source": [
        "# csv 변환 \n",
        "processed= pd.Series(new_list_2)\n",
        "processed.to_csv('/content/prepro_data_1.csv',encoding=\"utf-8-sig\")"
      ],
      "execution_count": null,
      "outputs": []
    },
    {
      "cell_type": "code",
      "metadata": {
        "colab": {
          "background_save": true
        },
        "id": "0LvIrKp4D3ot"
      },
      "source": [
        ""
      ],
      "execution_count": null,
      "outputs": []
    }
  ]
}